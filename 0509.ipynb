{
  "nbformat": 4,
  "nbformat_minor": 0,
  "metadata": {
    "colab": {
      "name": "0509.ipynb",
      "provenance": [],
      "authorship_tag": "ABX9TyNkSGeceioL/UtOsQ7qZlxj",
      "include_colab_link": true
    },
    "kernelspec": {
      "name": "python3",
      "display_name": "Python 3"
    },
    "language_info": {
      "name": "python"
    }
  },
  "cells": [
    {
      "cell_type": "markdown",
      "metadata": {
        "id": "view-in-github",
        "colab_type": "text"
      },
      "source": [
        "<a href=\"https://colab.research.google.com/github/itscyh/Introduction-to-Computers/blob/main/0509.ipynb\" target=\"_parent\"><img src=\"https://colab.research.google.com/assets/colab-badge.svg\" alt=\"Open In Colab\"/></a>"
      ]
    },
    {
      "cell_type": "code",
      "execution_count": 1,
      "metadata": {
        "colab": {
          "base_uri": "https://localhost:8080/"
        },
        "id": "xO3VUK9x8mZL",
        "outputId": "7bcbfc82-a4af-4a3d-9e7f-ebe1f66f38a6"
      },
      "outputs": [
        {
          "output_type": "stream",
          "name": "stdout",
          "text": [
            "123\n"
          ]
        }
      ],
      "source": [
        "print('123')"
      ]
    },
    {
      "cell_type": "code",
      "source": [
        "temp = float(input(\"請輸入你的體溫\"))\n",
        "if temp >= 37.5:\n",
        "  print(\"體溫過高!\")\n",
        "elif temp >= 37 and temp < 37.4:\n",
        "  print(\"體溫略高!\")\n",
        "elif temp >= 34 and temp < 36.9:\n",
        "  print(\"體溫正常!\")\n",
        "else:\n",
        "  print(\"體溫異常，請重新測量!\")  "
      ],
      "metadata": {
        "colab": {
          "base_uri": "https://localhost:8080/"
        },
        "id": "VNN5tFwZ86lJ",
        "outputId": "687a24df-1e44-4b4a-f047-5a7616ffab64"
      },
      "execution_count": 3,
      "outputs": [
        {
          "output_type": "stream",
          "name": "stdout",
          "text": [
            "請輸入你的體溫34.5\n",
            "體溫正常!\n"
          ]
        }
      ]
    },
    {
      "cell_type": "code",
      "source": [
        "score = input(\"請輸入成績\")\n",
        "if(int(score) >= 90): \n",
        "  print(\"A\")\n",
        "elif(int(score) >= 80):\n",
        "  print(\"B\")    \n",
        "elif(int(score) >= 70):\n",
        "  print(\"C\")   \n",
        "elif(int(score) >= 60):\n",
        "  print(\"D\")   \n",
        "else:\n",
        "  print(\"E\")       "
      ],
      "metadata": {
        "colab": {
          "base_uri": "https://localhost:8080/"
        },
        "id": "rfwRIL7K86n4",
        "outputId": "8b42647b-e966-4b47-f26d-56670ce26a11"
      },
      "execution_count": 10,
      "outputs": [
        {
          "output_type": "stream",
          "name": "stdout",
          "text": [
            "請輸入成績57\n",
            "E\n"
          ]
        }
      ]
    },
    {
      "cell_type": "code",
      "source": [
        "money = int (input(\"請輸入購物金額: \"))\n",
        "if(money >= 10000):\n",
        "  if(money >= 100000):\n",
        "      print(\"八折\", money * 0.8, end = \"元\\n\")\n",
        "  elif(money >= 50000):\n",
        "      print(\"八五折\", money * 0.85, end = \"元\\n\")  \n",
        "  elif(money >= 30000):\n",
        "      print(\"九折\", money * 0.9, end = \"元\\n\")  \n",
        "  else:\n",
        "      print(\"九五折\", money * 0.95, end = \"元\\n\")  \n",
        "else:\n",
        "  print(\"沒打折\",money,end = \"元\\n\")"
      ],
      "metadata": {
        "colab": {
          "base_uri": "https://localhost:8080/"
        },
        "id": "cFpZy2C386qN",
        "outputId": "3f269e96-b73f-4b56-aeb9-575d85ed1c77"
      },
      "execution_count": 18,
      "outputs": [
        {
          "output_type": "stream",
          "name": "stdout",
          "text": [
            "請輸入購物金額: 37000\n",
            "九折 33300.0元\n"
          ]
        }
      ]
    },
    {
      "cell_type": "code",
      "source": [
        "x = int(input (\"請輸入月份\"))\n",
        "if x in [3,4,5]:\n",
        "  print(x,\"月是春天！\")\n",
        "elif x in [6,7,8]:\n",
        "  print(x,\"月是夏天！\")\n",
        "elif x in [9,10,11]:\n",
        "  print(x,\"月是秋天！\")\n",
        "elif x in [12,1,2]:\n",
        "  print(x,\"月是冬天！\")\n",
        "else:\n",
        "  print(\"月份不在範圍內\")"
      ],
      "metadata": {
        "colab": {
          "base_uri": "https://localhost:8080/"
        },
        "id": "4pf-pEMg86tU",
        "outputId": "5e843580-4b79-4031-8fdc-e8c19b5bfaa8"
      },
      "execution_count": 49,
      "outputs": [
        {
          "output_type": "stream",
          "name": "stdout",
          "text": [
            "請輸入月份7\n",
            "7 月是夏天！\n"
          ]
        }
      ]
    },
    {
      "cell_type": "code",
      "source": [
        "tax = int (input(\"請輸入今年收入淨額: \"))\n",
        "if(tax >= 300000):\n",
        "  if(tax >= 2000000):\n",
        "      print(\"付稅金額:\", tax * 0.3, end = \"元\\n\")\n",
        "  elif(tax >= 1000000):\n",
        "      print(\"付稅金額:\", tax * 0.21, end = \"元\\n\")  \n",
        "  elif(tax >= 600000):\n",
        "      print(\"付稅金額:\", tax * 0.13, end = \"元\\n\")  \n",
        "  else:\n",
        "      print(\"付稅金額:\", tax * 0.06, end = \"元\\n\")  \n",
        "else:\n",
        "  print(\"付稅金額:0 元\\n\")"
      ],
      "metadata": {
        "colab": {
          "base_uri": "https://localhost:8080/"
        },
        "id": "CDZ9nauH86vm",
        "outputId": "39f264b8-b4b7-4d93-8ca4-615b78a8c1a5"
      },
      "execution_count": 39,
      "outputs": [
        {
          "output_type": "stream",
          "name": "stdout",
          "text": [
            "請輸入今年收入淨額: 300000\n",
            "付稅金額: 18000.0元\n"
          ]
        }
      ]
    },
    {
      "cell_type": "code",
      "source": [
        ""
      ],
      "metadata": {
        "id": "eQ5NPduV86yT"
      },
      "execution_count": null,
      "outputs": []
    },
    {
      "cell_type": "code",
      "source": [
        ""
      ],
      "metadata": {
        "id": "QDUZQP9J862N"
      },
      "execution_count": null,
      "outputs": []
    }
  ]
}