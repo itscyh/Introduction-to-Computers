{
  "nbformat": 4,
  "nbformat_minor": 0,
  "metadata": {
    "colab": {
      "name": "0530.ipynb",
      "provenance": [],
      "authorship_tag": "ABX9TyMGaMH0a2uGMIA9+0WAEojJ",
      "include_colab_link": true
    },
    "kernelspec": {
      "name": "python3",
      "display_name": "Python 3"
    },
    "language_info": {
      "name": "python"
    }
  },
  "cells": [
    {
      "cell_type": "markdown",
      "metadata": {
        "id": "view-in-github",
        "colab_type": "text"
      },
      "source": [
        "<a href=\"https://colab.research.google.com/github/itscyh/Introduction-to-Computers/blob/main/0530.ipynb\" target=\"_parent\"><img src=\"https://colab.research.google.com/assets/colab-badge.svg\" alt=\"Open In Colab\"/></a>"
      ]
    },
    {
      "cell_type": "code",
      "execution_count": null,
      "metadata": {
        "colab": {
          "base_uri": "https://localhost:8080/"
        },
        "id": "dwSDrjnOBnU2",
        "outputId": "59cd10c5-c87e-40df-add9-c98372ac8863"
      },
      "outputs": [
        {
          "output_type": "stream",
          "name": "stdout",
          "text": [
            "2*1= 2   2*2= 4   2*3= 6   2*4= 8   2*5=10   2*6=12   2*7=14   2*8=16   2*9=18   \n",
            "3*1= 3   3*2= 6   3*3= 9   3*4=12   3*5=15   3*6=18   3*7=21   3*8=24   3*9=27   \n",
            "4*1= 4   4*2= 8   4*3=12   4*4=16   4*5=20   4*6=24   4*7=28   4*8=32   4*9=36   \n",
            "5*1= 5   5*2=10   5*3=15   5*4=20   5*5=25   5*6=30   5*7=35   5*8=40   5*9=45   \n",
            "6*1= 6   6*2=12   6*3=18   6*4=24   6*5=30   6*6=36   6*7=42   6*8=48   6*9=54   \n",
            "7*1= 7   7*2=14   7*3=21   7*4=28   7*5=35   7*6=42   7*7=49   7*8=56   7*9=63   \n",
            "8*1= 8   8*2=16   8*3=24   8*4=32   8*5=40   8*6=48   8*7=56   8*8=64   8*9=72   \n",
            "9*1= 9   9*2=18   9*3=27   9*4=36   9*5=45   9*6=54   9*7=63   9*8=72   9*9=81   \n"
          ]
        }
      ],
      "source": [
        "for i in range(2,10):\n",
        "  for j in range(1,10):\n",
        "      product = i*j\n",
        "      print(\"%d*%d=%2d   \" % (i, j, product), end=\"\")\n",
        "  print() "
      ]
    },
    {
      "cell_type": "code",
      "source": [
        "a = int(input(\"請輸入a的值: \"))\n",
        "b = int(input('請輸入b的值:'))\n",
        "c = a*b\n",
        "for i in range(1,c+1):\n",
        "  if(i% a ==0 and i% b ==0):\n",
        "    break\n",
        "print('%d和%d的最小公倍數=%d'%(a,b,i))"
      ],
      "metadata": {
        "colab": {
          "base_uri": "https://localhost:8080/"
        },
        "id": "z1ZwDl2hDQEv",
        "outputId": "fbcc9ecb-e235-4930-fada-b5566e325dac"
      },
      "execution_count": null,
      "outputs": [
        {
          "output_type": "stream",
          "name": "stdout",
          "text": [
            "請輸入a的值: 17\n",
            "請輸入b的值:2\n",
            "17和2的最小公倍數=34\n"
          ]
        }
      ]
    },
    {
      "cell_type": "code",
      "source": [
        "n = int (input(\"請輸入正整數: \"))\n",
        "for i in range(1,n+1):\n",
        "  if i % 5 ==0 :\n",
        "      continue\n",
        "  print(i,end=\" \")"
      ],
      "metadata": {
        "colab": {
          "base_uri": "https://localhost:8080/"
        },
        "id": "r3mz4GiiDQBW",
        "outputId": "82582497-05d5-4eef-e0a1-b005cc5f9ce9"
      },
      "execution_count": null,
      "outputs": [
        {
          "output_type": "stream",
          "name": "stdout",
          "text": [
            "請輸入正整數: 5\n",
            "1 2 3 4 "
          ]
        }
      ]
    },
    {
      "cell_type": "code",
      "source": [
        "total = n = 0\n",
        "while (n <= 10) :\n",
        "      total += n\n",
        "      n += 1\n",
        "print(total)   "
      ],
      "metadata": {
        "colab": {
          "base_uri": "https://localhost:8080/"
        },
        "id": "7ZwJwzidLnvU",
        "outputId": "f1f166d7-97db-48d8-8899-5a30203cc144"
      },
      "execution_count": null,
      "outputs": [
        {
          "output_type": "stream",
          "name": "stdout",
          "text": [
            "55\n"
          ]
        }
      ]
    },
    {
      "cell_type": "code",
      "source": [
        "total = n = 0\n",
        "while n <= 10 :\n",
        "      total += n\n",
        "      n += 1\n",
        "print(total)        "
      ],
      "metadata": {
        "colab": {
          "base_uri": "https://localhost:8080/"
        },
        "id": "1rfoBsCPDP-9",
        "outputId": "ca996a68-73f7-4608-d9e0-6d40d1abec75"
      },
      "execution_count": null,
      "outputs": [
        {
          "output_type": "stream",
          "name": "stdout",
          "text": [
            "55\n"
          ]
        }
      ]
    },
    {
      "cell_type": "code",
      "source": [
        "total = n = 0 \n",
        "while n <= 10:\n",
        "    total += n\n",
        "    n += 1\n",
        "\n",
        "print(total)"
      ],
      "metadata": {
        "colab": {
          "base_uri": "https://localhost:8080/"
        },
        "id": "Yxv1q7C9DP8I",
        "outputId": "49aa7dd4-1d01-415d-c551-5c80e9d68342"
      },
      "execution_count": null,
      "outputs": [
        {
          "output_type": "stream",
          "name": "stdout",
          "text": [
            "55\n"
          ]
        }
      ]
    },
    {
      "cell_type": "code",
      "source": [
        "total = i = 1\n",
        "n = int(input(\"請輸入正整數n的值: \"))\n",
        "while i <= n :\n",
        "      total *= i\n",
        "      i += 1\n",
        "print(\"%d! = %d\" % (n, total ))   "
      ],
      "metadata": {
        "colab": {
          "base_uri": "https://localhost:8080/"
        },
        "id": "NBp2ywXqLu7M",
        "outputId": "ffd4227e-9699-48aa-c282-f5f8b2c86a9f"
      },
      "execution_count": null,
      "outputs": [
        {
          "output_type": "stream",
          "name": "stdout",
          "text": [
            "請輸入正整數n的值: 5\n",
            "5! = 120\n"
          ]
        }
      ]
    },
    {
      "cell_type": "markdown",
      "source": [
        "1."
      ],
      "metadata": {
        "id": "4SgLcnLefZD8"
      }
    },
    {
      "cell_type": "code",
      "source": [
        "sum1=0\n",
        "for i in range(1,51):\n",
        "    if i % 2 == 0:\n",
        "      sum1 +=i\n",
        "print(\"0~50的偶數和結果是\",sum1)\n",
        "\n",
        "sum2=0\n",
        "for i in range(1,51):\n",
        "    if i % 2 == 1:\n",
        "      sum2 +=i\n",
        "print(\"0~50的數奇和結果是\",sum2)"
      ],
      "metadata": {
        "colab": {
          "base_uri": "https://localhost:8080/"
        },
        "id": "9DYnsijlS92A",
        "outputId": "0e0bcef1-1bdf-45a8-bff8-ff0fa1c31dce"
      },
      "execution_count": null,
      "outputs": [
        {
          "output_type": "stream",
          "name": "stdout",
          "text": [
            "0~50的偶數和結果是 650\n",
            "0~50的數奇和結果是 625\n"
          ]
        }
      ]
    },
    {
      "cell_type": "markdown",
      "source": [
        "2."
      ],
      "metadata": {
        "id": "xztITxsmfXzw"
      }
    },
    {
      "cell_type": "code",
      "source": [
        "n = int(input(\"請輸入一個正整數：\"))\n",
        "for i in range(0,n):\n",
        "        for j in range(n,1): \n",
        "                 print(\"\",end = \"\")\n",
        "        for k in range(0,n-i):            \n",
        "                 print(\"* \", end = \"\" )\n",
        "        print('\\t')"
      ],
      "metadata": {
        "colab": {
          "base_uri": "https://localhost:8080/"
        },
        "id": "eNWH3k5v5w8z",
        "outputId": "7167e9d3-31d6-483e-8503-a450e71aceac"
      },
      "execution_count": null,
      "outputs": [
        {
          "output_type": "stream",
          "name": "stdout",
          "text": [
            "請輸入一個正整數：5\n",
            "* * * * * \t\n",
            "* * * * \t\n",
            "* * * \t\n",
            "* * \t\n",
            "* \t\n"
          ]
        }
      ]
    },
    {
      "cell_type": "markdown",
      "source": [
        "3."
      ],
      "metadata": {
        "id": "n7wyIrI-fV5a"
      }
    },
    {
      "cell_type": "code",
      "source": [
        "sum=0\n",
        "for i in range(1,101):\n",
        "    if i % 3 == 0 or i % 7 == 0:\n",
        "      sum +=i\n",
        "print(\"數值 1~100 中,所有是 3 或 7 倍數的數之總和 =\", sum)\n"
      ],
      "metadata": {
        "colab": {
          "base_uri": "https://localhost:8080/"
        },
        "id": "naYTThBG54Sa",
        "outputId": "40ba2424-bb03-4e9b-be0d-4210befd0c39"
      },
      "execution_count": null,
      "outputs": [
        {
          "output_type": "stream",
          "name": "stdout",
          "text": [
            "數值 1~100 中,所有是 3 或 7 倍數的數之總和 = 2208\n"
          ]
        }
      ]
    },
    {
      "cell_type": "markdown",
      "source": [
        "4."
      ],
      "metadata": {
        "id": "xXyYA-i9faWM"
      }
    },
    {
      "cell_type": "code",
      "source": [
        "n = int(input(\"請輸入正整數：\"))\n",
        "print(n,\"的因數有: \",i, end=\" \")\n",
        "for i in range(1,n+1):\n",
        "    if n % i == 0:\n",
        "        print(i, end=\" \")\n",
        "\n",
        "print(end = \"\\n\")\n",
        "for k in range(2,n):\n",
        "    if(n % k) == 0:\n",
        "       print(n,\"不是質數\")\n",
        "       break\n",
        "else:\n",
        "    print(n,\"是質數\")"
      ],
      "metadata": {
        "colab": {
          "base_uri": "https://localhost:8080/"
        },
        "id": "NL-mii8m59Xd",
        "outputId": "916625dc-b767-4d93-b8bd-97f9b9ed2d93"
      },
      "execution_count": null,
      "outputs": [
        {
          "output_type": "stream",
          "name": "stdout",
          "text": [
            "請輸入正整數：8\n",
            "8 的因數有:  16 1 2 4 8 \n",
            "8 不是質數\n"
          ]
        }
      ]
    }
  ]
}